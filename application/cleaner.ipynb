{
 "cells": [
  {
   "cell_type": "code",
   "execution_count": 153,
   "metadata": {},
   "outputs": [],
   "source": [
    "import pandas as pd\n",
    "import numpy as np\n",
    "from datetime import datetime\n",
    "\n",
    "pd.set_option(\"display.width\", 300)"
   ]
  },
  {
   "cell_type": "code",
   "execution_count": 154,
   "metadata": {},
   "outputs": [
    {
     "name": "stdout",
     "output_type": "stream",
     "text": [
      "      Id                                     Books Book checkout Book Returned Days allowed to borrow  Customer ID\n",
      "0    1.0                       Catcher in the Rye   \"20/02/2023\"    25/02/2023                2 weeks          1.0\n",
      "1    2.0          Lord of the rings the two towers  \"24/03/2023\"    21/03/2023                2 weeks          2.0\n",
      "2    3.0  Lord of the rings the return of the kind  \"29/03/2023\"    25/03/2023                2 weeks          3.0\n",
      "3    4.0                                The hobbit  \"02/04/2023\"    25/03/2023                2 weeks          4.0\n",
      "4    5.0                                     Dune   \"02/04/2023\"    25/03/2023                2 weeks          5.0\n",
      "5    6.0                              Little Women  \"02/04/2023\"    01/05/2023                2 weeks          1.0\n",
      "6    7.0                                        IT  \"10/04/2063\"    03/04/2023                2 weeks          6.0\n",
      "7    8.0                                   Misery   \"15/04/2023\"    03/04/2023                2 weeks          7.0\n",
      "8    9.0                                  Catch 22  \"15/04/2023\"    16/04/2023                2 weeks          7.0\n",
      "9   10.0                              Animal Farm   \"20/04/2023\"    24/04/2023                2 weeks          2.0\n",
      "10  11.0                                      1984  \"23/04/2023\"    27/04/2023                2 weeks          8.0\n",
      "11  12.0                              Little Women  \"02/04/2023\"    01/05/2023                2 weeks          1.0\n",
      "12  13.0                              East of Eden  \"30/04/2023\"    05/05/2023                2 weeks          2.0\n",
      "13  14.0                   America Is in the Heart  \"01/05/2023\"    07/05/2023                2 weeks          3.0\n",
      "14  15.0                         Wuthering Heights  \"01/05/2023\"    10/05/2023                2 weeks          9.0\n",
      "15  16.0                                Dark Tales  \"15/05/2023\"    01/06/2023                2 weeks          2.0\n",
      "16  17.0                        The Bloody Chamber  \"32/05/2023\"    04/06/2023                2 weeks          3.0\n",
      "17  18.0                            Les Miserables  \"03/06/2023\"    07/06/2023                2 weeks          5.0\n",
      "18  19.0                                   Dracula  \"10/06/2023\"    10/07/2023                2 weeks         10.0\n",
      "19  20.0                              Frankenstein  \"01/06/2023\"    20/06/2023                2 weeks          2.0\n"
     ]
    }
   ],
   "source": [
    "# Load csv file into dataframe\n",
    "books = pd.read_csv(\"../data/03_Library Systembook.csv\")\n",
    "\n",
    "# Drop items with blank Id or CustomerID values\n",
    "books = books.dropna(subset=['Id', \"Customer ID\"])\n",
    "print(books)"
   ]
  },
  {
   "cell_type": "code",
   "execution_count": 155,
   "metadata": {},
   "outputs": [],
   "source": [
    "books = books.set_index(\"Id\")"
   ]
  },
  {
   "cell_type": "code",
   "execution_count": 156,
   "metadata": {},
   "outputs": [],
   "source": [
    "# Reformat book checkout column - parse date contained in \"\" then return as datetime object\n",
    "def format_book_checkout(date_str: str):\n",
    "    try:\n",
    "        dt = datetime.strptime(date_str, '\"%d/%m/%Y\"')\n",
    "        return dt\n",
    "    except ValueError:\n",
    "        return\n",
    "books['Book checkout'] = books.apply(lambda row: format_book_checkout(row['Book checkout']), axis=1)\n",
    "\n",
    "# Remove rows with invalid checkout dates\n",
    "books = books[~books['Book checkout'].isnull()]\n",
    "\n",
    "# Convert book returned column to datetime\n",
    "books['Book Returned'] = pd.to_datetime(books['Book Returned'], format=\"%d/%m/%Y\")\n",
    "\n",
    "# Add calculated column - loaned days\n",
    "books['DaysOnLoan'] = (books['Book Returned'] - books['Book checkout'])/np.timedelta64(1, \"D\")"
   ]
  },
  {
   "cell_type": "code",
   "execution_count": 157,
   "metadata": {},
   "outputs": [
    {
     "name": "stdout",
     "output_type": "stream",
     "text": [
      "Books                             object\n",
      "Book checkout             datetime64[ns]\n",
      "Book Returned             datetime64[ns]\n",
      "Days allowed to borrow            object\n",
      "Customer ID                      float64\n",
      "DaysOnLoan                       float64\n",
      "dtype: object\n",
      "                                         Books Book checkout Book Returned Days allowed to borrow  Customer ID  DaysOnLoan\n",
      "Id                                                                                                                        \n",
      "1.0                        Catcher in the Rye     2023-02-20    2023-02-25                2 weeks          1.0         5.0\n",
      "2.0           Lord of the rings the two towers    2023-03-24    2023-03-21                2 weeks          2.0        -3.0\n",
      "3.0   Lord of the rings the return of the kind    2023-03-29    2023-03-25                2 weeks          3.0        -4.0\n",
      "4.0                                 The hobbit    2023-04-02    2023-03-25                2 weeks          4.0        -8.0\n",
      "5.0                                      Dune     2023-04-02    2023-03-25                2 weeks          5.0        -8.0\n",
      "6.0                               Little Women    2023-04-02    2023-05-01                2 weeks          1.0        29.0\n",
      "7.0                                         IT    2063-04-10    2023-04-03                2 weeks          6.0    -14617.0\n",
      "8.0                                    Misery     2023-04-15    2023-04-03                2 weeks          7.0       -12.0\n",
      "9.0                                   Catch 22    2023-04-15    2023-04-16                2 weeks          7.0         1.0\n",
      "10.0                              Animal Farm     2023-04-20    2023-04-24                2 weeks          2.0         4.0\n",
      "11.0                                      1984    2023-04-23    2023-04-27                2 weeks          8.0         4.0\n",
      "12.0                              Little Women    2023-04-02    2023-05-01                2 weeks          1.0        29.0\n",
      "13.0                              East of Eden    2023-04-30    2023-05-05                2 weeks          2.0         5.0\n",
      "14.0                   America Is in the Heart    2023-05-01    2023-05-07                2 weeks          3.0         6.0\n",
      "15.0                         Wuthering Heights    2023-05-01    2023-05-10                2 weeks          9.0         9.0\n",
      "16.0                                Dark Tales    2023-05-15    2023-06-01                2 weeks          2.0        17.0\n",
      "18.0                            Les Miserables    2023-06-03    2023-06-07                2 weeks          5.0         4.0\n",
      "19.0                                   Dracula    2023-06-10    2023-07-10                2 weeks         10.0        30.0\n",
      "20.0                              Frankenstein    2023-06-01    2023-06-20                2 weeks          2.0        19.0\n"
     ]
    }
   ],
   "source": [
    "# Replace NA values with None\n",
    "books = books.replace({np.nan: None})\n",
    "\n",
    "# Show df\n",
    "print(books.dtypes)\n",
    "print(books)"
   ]
  }
 ],
 "metadata": {
  "kernelspec": {
   "display_name": ".venv",
   "language": "python",
   "name": "python3"
  },
  "language_info": {
   "codemirror_mode": {
    "name": "ipython",
    "version": 3
   },
   "file_extension": ".py",
   "mimetype": "text/x-python",
   "name": "python",
   "nbconvert_exporter": "python",
   "pygments_lexer": "ipython3",
   "version": "3.12.3"
  }
 },
 "nbformat": 4,
 "nbformat_minor": 2
}
